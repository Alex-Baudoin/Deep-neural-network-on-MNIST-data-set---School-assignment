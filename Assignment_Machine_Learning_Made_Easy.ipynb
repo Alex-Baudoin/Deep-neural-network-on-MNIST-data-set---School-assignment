{
 "cells": [
  {
   "cell_type": "markdown",
   "metadata": {
    "id": "UqT873FcvjxW"
   },
   "source": [
    "\n",
    "## Lecturer : Prof. Jeff Edmonds"
   ]
  },
  {
   "cell_type": "code",
   "execution_count": 37,
   "metadata": {
    "colab": {
     "base_uri": "https://localhost:8080/",
     "height": 36
    },
    "executionInfo": {
     "elapsed": 4852,
     "status": "ok",
     "timestamp": 1677786188592,
     "user": {
      "displayName": "Berthine Nyunga Mpinda",
      "userId": "13943666772456997748"
     },
     "user_tz": -60
    },
    "id": "_yS243aihQrF",
    "outputId": "304554f7-10b9-4a7a-9b61-f386f390df1c"
   },
   "outputs": [
    {
     "data": {
      "text/plain": [
       "'2.11.0'"
      ]
     },
     "execution_count": 37,
     "metadata": {},
     "output_type": "execute_result"
    }
   ],
   "source": [
    " import keras\n",
    "keras.__version__"
   ]
  },
  {
   "cell_type": "code",
   "execution_count": 38,
   "metadata": {
    "executionInfo": {
     "elapsed": 17,
     "status": "ok",
     "timestamp": 1677786190036,
     "user": {
      "displayName": "Berthine Nyunga Mpinda",
      "userId": "13943666772456997748"
     },
     "user_tz": -60
    },
    "id": "q8jCkAffhQsX"
   },
   "outputs": [],
   "source": [
    "#Import the necessary libraries\n",
    "from keras.datasets import mnist\n",
    "from keras import models\n",
    "from keras import layers\n",
    "from keras.utils import to_categorical\n",
    "from keras.callbacks import EarlyStopping"
   ]
  },
  {
   "cell_type": "code",
   "execution_count": 39,
   "metadata": {},
   "outputs": [],
   "source": [
    "#Importation of the data set\n",
    "(train_images, train_labels), (test_images, test_labels) = mnist.load_data()"
   ]
  },
  {
   "cell_type": "code",
   "execution_count": 40,
   "metadata": {
    "executionInfo": {
     "elapsed": 17,
     "status": "ok",
     "timestamp": 1677786190037,
     "user": {
      "displayName": "Berthine Nyunga Mpinda",
      "userId": "13943666772456997748"
     },
     "user_tz": -60
    },
    "id": "Qszy3UNxhQst"
   },
   "outputs": [],
   "source": [
    "#We reshape the data set and transform the values to scale them between 0 and 1. \n",
    "train_images = train_images.reshape((60000, 28 * 28))\n",
    "train_images = train_images.astype('float32') / 255\n",
    "\n",
    "test_images = test_images.reshape((10000, 28 * 28))\n",
    "test_images = test_images.astype('float32') / 255"
   ]
  },
  {
   "cell_type": "markdown",
   "metadata": {
    "id": "evtpvqUJhQs3"
   },
   "source": [
    "We also need to categorically encode the labels."
   ]
  },
  {
   "cell_type": "code",
   "execution_count": 41,
   "metadata": {
    "executionInfo": {
     "elapsed": 81,
     "status": "ok",
     "timestamp": 1677786191438,
     "user": {
      "displayName": "Berthine Nyunga Mpinda",
      "userId": "13943666772456997748"
     },
     "user_tz": -60
    },
    "id": "Wo7Rr65PhQs4"
   },
   "outputs": [],
   "source": [
    "\n",
    "train_labels = to_categorical(train_labels)\n",
    "test_labels = to_categorical(test_labels)"
   ]
  },
  {
   "cell_type": "markdown",
   "metadata": {
    "id": "7Mz4hOBMEZmi"
   },
   "source": [
    "# **Assignment 1**\n",
    "\n",
    "---\n",
    "\n",
    "**1. What does the output of the cell below tell us?** (1 Mark)"
   ]
  },
  {
   "cell_type": "code",
   "execution_count": 35,
   "metadata": {
    "executionInfo": {
     "elapsed": 1145,
     "status": "ok",
     "timestamp": 1677789303036,
     "user": {
      "displayName": "Berthine Nyunga Mpinda",
      "userId": "13943666772456997748"
     },
     "user_tz": -60
    },
    "id": "bVns6iCXEntS"
   },
   "outputs": [
    {
     "data": {
      "text/plain": [
       "array([0., 0., 0., 0., 0., 0., 0., 0., 1., 0.], dtype=float32)"
      ]
     },
     "execution_count": 35,
     "metadata": {},
     "output_type": "execute_result"
    }
   ],
   "source": [
    "train_labels[300]"
   ]
  },
  {
   "cell_type": "markdown",
   "metadata": {
    "id": "S6mtqoDelGNM"
   },
   "source": [
    "It tells us that after scaling the training set the number at the 301 th position correspond to 8 since at its brightness is 1 and the other values are 0."
   ]
  },
  {
   "cell_type": "markdown",
   "metadata": {
    "id": "1RUeOwj1mVsm"
   },
   "source": [
    "**2. Why does the last layer of the network we trained above have 10 nodes? Why does it have to have that many?** (1 Mark)"
   ]
  },
  {
   "cell_type": "markdown",
   "metadata": {
    "id": "ixlaZ4F-majy"
   },
   "source": [
    "The last layer of the network has 10 nodes because we have 10 classes which corresponds to number between 0 and 9. And at the end of each classification, the neural network has to give a probability score that the initial image correspond to each of those numbers. Each score will be the probability that the current digit image belongs to one of our 10 digit classes, thus it has to be that many because we are in a multi-classification problem."
   ]
  },
  {
   "cell_type": "markdown",
   "metadata": {
    "id": "1B7T4F7nmqEP"
   },
   "source": [
    "**3. How many nodes does the input layer have? Why does it have to have that many?** (1 Mark)"
   ]
  },
  {
   "cell_type": "markdown",
   "metadata": {
    "id": "KRf5d1jpmtlM"
   },
   "source": [
    "The input node has $28 \\times 28 = 784$ nodes. It has to be that many because every pictures has 28*28 = 784 pixels, so to be able to classify to which classes the current digit image digit corresponds, we have to analyze each pixel to extract the maximum of information."
   ]
  },
  {
   "cell_type": "markdown",
   "metadata": {
    "id": "4c-m00Fdm7I_"
   },
   "source": [
    "**4. How many nodes does the hidden layer have? Could it have had a different number? (hint: try it out)** (1 Mark)"
   ]
  },
  {
   "cell_type": "markdown",
   "metadata": {
    "id": "AQtX3Mn7m85P"
   },
   "source": [
    "The hidden layer has 512 nodes. Yes it could have had a different number since it is an hyperparameter. Let's check how it works with 300 nodes in the hidden layer.\n",
    "\n",
    "\n"
   ]
  },
  {
   "cell_type": "code",
   "execution_count": 52,
   "metadata": {},
   "outputs": [
    {
     "name": "stdout",
     "output_type": "stream",
     "text": [
      "Epoch 1/5\n",
      "469/469 [==============================] - 3s 6ms/step - loss: 0.2895 - accuracy: 0.9191\n",
      "Epoch 2/5\n",
      "469/469 [==============================] - 3s 6ms/step - loss: 0.1254 - accuracy: 0.9635\n",
      "Epoch 3/5\n",
      "469/469 [==============================] - 3s 7ms/step - loss: 0.0842 - accuracy: 0.9744\n",
      "Epoch 4/5\n",
      "469/469 [==============================] - 3s 5ms/step - loss: 0.0632 - accuracy: 0.9815\n",
      "Epoch 5/5\n",
      "469/469 [==============================] - 3s 6ms/step - loss: 0.0484 - accuracy: 0.9857\n"
     ]
    },
    {
     "data": {
      "text/plain": [
       "<keras.callbacks.History at 0x7ff57f8a2ac0>"
      ]
     },
     "execution_count": 52,
     "metadata": {},
     "output_type": "execute_result"
    }
   ],
   "source": [
    "network1 = models.Sequential()\n",
    "network1.add(layers.Dense(300, activation='relu', input_shape=(28 * 28,)))\n",
    "network1.add(layers.Dense(10, activation='softmax'))\n",
    "\n",
    "network1.compile(optimizer='rmsprop',\n",
    "                loss='categorical_crossentropy',\n",
    "                metrics=['accuracy'])\n",
    "network1.fit(train_images, train_labels, epochs=5, batch_size=128)"
   ]
  },
  {
   "cell_type": "code",
   "execution_count": 53,
   "metadata": {},
   "outputs": [
    {
     "name": "stdout",
     "output_type": "stream",
     "text": [
      "313/313 [==============================] - 1s 2ms/step - loss: 0.0760 - accuracy: 0.9767\n"
     ]
    }
   ],
   "source": [
    "test_loss_1, test_acc_1 = network1.evaluate(test_images, test_labels)"
   ]
  },
  {
   "cell_type": "code",
   "execution_count": 54,
   "metadata": {},
   "outputs": [
    {
     "name": "stdout",
     "output_type": "stream",
     "text": [
      "Model: \"sequential\"\n",
      "_________________________________________________________________\n",
      " Layer (type)                Output Shape              Param #   \n",
      "=================================================================\n",
      " dense (Dense)               (None, 512)               401920    \n",
      "                                                                 \n",
      " dense_1 (Dense)             (None, 10)                5130      \n",
      "                                                                 \n",
      "=================================================================\n",
      "Total params: 407,050\n",
      "Trainable params: 407,050\n",
      "Non-trainable params: 0\n",
      "_________________________________________________________________\n",
      "None\n"
     ]
    }
   ],
   "source": [
    "print(network.summary())"
   ]
  },
  {
   "cell_type": "markdown",
   "metadata": {},
   "source": [
    "We have a result of accuracy on the training and test set when we change the number of nodes in the hidden layer but the number of total parameters remain the same whether we consider 512 nodes or 300 nodes on that hidden layer. "
   ]
  },
  {
   "cell_type": "markdown",
   "metadata": {
    "id": "Fp4Zk3kcm_eS"
   },
   "source": [
    "**5. Train the model we trained above for another 10 [epochs](https://machinelearningmastery.com/difference-between-a-batch-and-an-epoch/) (Note, an epoch is a single iteration over all samples in the dataset). Does the model improve from the additional training?** (1 Mark)\n",
    "\n",
    "hint: Find the epoch variable and change its value. Notice that if you run the training cell another 2 times in a row you will achieve the same result.\n"
   ]
  },
  {
   "cell_type": "code",
   "execution_count": 36,
   "metadata": {},
   "outputs": [
    {
     "name": "stdout",
     "output_type": "stream",
     "text": [
      "Epoch 1/20\n",
      "469/469 [==============================] - 5s 10ms/step - loss: 4.8488e-05 - accuracy: 1.0000 - val_loss: 0.0181 - val_accuracy: 0.9864\n",
      "Epoch 2/20\n",
      "469/469 [==============================] - 4s 9ms/step - loss: 2.7984e-05 - accuracy: 1.0000 - val_loss: 0.0183 - val_accuracy: 0.9859\n",
      "Epoch 3/20\n",
      "469/469 [==============================] - 4s 9ms/step - loss: 2.2282e-05 - accuracy: 1.0000 - val_loss: 0.0185 - val_accuracy: 0.9861\n",
      "Epoch 4/20\n",
      "469/469 [==============================] - 5s 10ms/step - loss: 1.8733e-05 - accuracy: 1.0000 - val_loss: 0.0187 - val_accuracy: 0.9866\n",
      "Epoch 5/20\n",
      "469/469 [==============================] - 5s 12ms/step - loss: 1.5989e-05 - accuracy: 1.0000 - val_loss: 0.0189 - val_accuracy: 0.9862\n",
      "Epoch 6/20\n",
      "469/469 [==============================] - 4s 9ms/step - loss: 1.3708e-05 - accuracy: 1.0000 - val_loss: 0.0191 - val_accuracy: 0.9866\n",
      "Epoch 7/20\n",
      "469/469 [==============================] - 5s 10ms/step - loss: 1.1931e-05 - accuracy: 1.0000 - val_loss: 0.0193 - val_accuracy: 0.9864\n",
      "Epoch 8/20\n",
      "469/469 [==============================] - 4s 9ms/step - loss: 1.0330e-05 - accuracy: 1.0000 - val_loss: 0.0195 - val_accuracy: 0.9865\n",
      "Epoch 9/20\n",
      "469/469 [==============================] - 4s 10ms/step - loss: 9.0342e-06 - accuracy: 1.0000 - val_loss: 0.0196 - val_accuracy: 0.9866\n",
      "Epoch 10/20\n",
      "469/469 [==============================] - 4s 9ms/step - loss: 7.8005e-06 - accuracy: 1.0000 - val_loss: 0.0197 - val_accuracy: 0.9862\n",
      "Epoch 11/20\n",
      "469/469 [==============================] - 4s 9ms/step - loss: 0.0022 - accuracy: 0.9987 - val_loss: 0.0236 - val_accuracy: 0.9842\n",
      "Epoch 12/20\n",
      "469/469 [==============================] - 4s 9ms/step - loss: 0.0011 - accuracy: 0.9995 - val_loss: 0.0211 - val_accuracy: 0.9841\n",
      "Epoch 13/20\n",
      "469/469 [==============================] - 4s 9ms/step - loss: 2.0803e-04 - accuracy: 0.9999 - val_loss: 0.0208 - val_accuracy: 0.9852\n"
     ]
    }
   ],
   "source": [
    "##Build the neural network\n",
    "\n",
    "network = models.Sequential()\n",
    "network.add(layers.Dense(512, activation='relu', input_shape=(28 * 28,)))\n",
    "network.add(layers.Dense(10, activation='softmax'))\n",
    "network.compile(optimizer='rmsprop',\n",
    "                loss='categorical_crossentropy',\n",
    "                metrics=['accuracy'])\n",
    "network.compile(optimizer = 'adam', loss='binary_crossentropy',metrics=['accuracy'])\n",
    "earlyStopCallBack = EarlyStopping(monitor='loss', patience=3)\n",
    "history_1 = network.fit(train_images, train_labels, validation_data=\n",
    "                        (test_images, test_labels), epochs = 20, batch_size = 128, callbacks=[earlyStopCallBack])"
   ]
  },
  {
   "cell_type": "code",
   "execution_count": 44,
   "metadata": {},
   "outputs": [
    {
     "data": {
      "image/png": "[encoded data removed]",
      "text/plain": [
       "<Figure size 432x288 with 1 Axes>"
      ]
     },
     "metadata": {
      "needs_background": "light"
     },
     "output_type": "display_data"
    }
   ],
   "source": [
    "#summarize history for accuracy\n",
    "plt.plot(history_1.history['accuracy'])\n",
    "plt.plot(history_1.history['val_accuracy'])\n",
    "plt.title('model accuracy')\n",
    "plt.ylabel('accuracy')\n",
    "plt.xlabel('epoch')\n",
    "plt.legend(['train', 'validation'], loc='upper left')\n",
    "plt.show()\n"
   ]
  },
  {
   "cell_type": "code",
   "execution_count": 45,
   "metadata": {},
   "outputs": [
    {
     "data": {
      "image/png": "[encoded data removed]",
      "text/plain": [
       "<Figure size 432x288 with 1 Axes>"
      ]
     },
     "metadata": {
      "needs_background": "light"
     },
     "output_type": "display_data"
    }
   ],
   "source": [
    "# summarize history for loss\n",
    "plt.plot(history_1.history['loss'])\n",
    "plt.plot(history_1.history['val_loss'])\n",
    "plt.title('model loss')\n",
    "plt.ylabel('loss')\n",
    "plt.xlabel('epoch')\n",
    "plt.legend(['train', 'Validation'], loc='upper left')\n",
    "plt.show()"
   ]
  },
  {
   "cell_type": "markdown",
   "metadata": {
    "id": "WapUwP-pnCmd"
   },
   "source": [
    "After doing an additional 10 epochs, the loss functions of the training set and the validation set seem to increase and the accuracy during the training is still higher than the accuracy during the validation. That simple means that the machine has learn to much from the data to the point to capture the noise and is not able to perform well with a new data. Then there is an overfitting problem."
   ]
  },
  {
   "cell_type": "markdown",
   "metadata": {
    "id": "8QXM6Hf_E6x9"
   },
   "source": [
    "**6. Modify the code below so that it uses stochastic gradient descent as the optimizer instead of rmsprop. Which results in better performance on this dataset after 5 epochs, SGD or rmsprop? How do you know?** (2 Marks)\n",
    "\n",
    "In class we have discussed gradient descent. Gradient descent is the fundamental optimization method for neural networks, but there are more advanced optimization techniques that build on it, such as rmsprop (which was used in the model we trained above). Don't worry about understanding these advanced optimizers for this course - just remember that they exist and are serving the same role as gradient descent, but with some modifications.\n",
    "\n",
    "\n",
    "hint: use 'sgd' to indicate stochastic gradient descent in the code. Also make sure you calculate the **test** accuracy after training.\n"
   ]
  },
  {
   "cell_type": "code",
   "execution_count": 37,
   "metadata": {
    "colab": {
     "base_uri": "https://localhost:8080/"
    },
    "executionInfo": {
     "elapsed": 41368,
     "status": "ok",
     "timestamp": 1677786368915,
     "user": {
      "displayName": "Berthine Nyunga Mpinda",
      "userId": "13943666772456997748"
     },
     "user_tz": -60
    },
    "id": "4bh7TLt7EtaU",
    "outputId": "f178fa84-6a67-4958-8270-93764f707952"
   },
   "outputs": [
    {
     "name": "stdout",
     "output_type": "stream",
     "text": [
      "Epoch 1/5\n",
      "469/469 [==============================] - 5s 10ms/step - loss: 0.2653 - accuracy: 0.9242\n",
      "Epoch 2/5\n",
      "469/469 [==============================] - 5s 10ms/step - loss: 0.1064 - accuracy: 0.9682\n",
      "Epoch 3/5\n",
      "469/469 [==============================] - 4s 9ms/step - loss: 0.0701 - accuracy: 0.9788\n",
      "Epoch 4/5\n",
      "469/469 [==============================] - 3s 7ms/step - loss: 0.0506 - accuracy: 0.9847\n",
      "Epoch 5/5\n",
      "469/469 [==============================] - 3s 7ms/step - loss: 0.0386 - accuracy: 0.9886\n"
     ]
    },
    {
     "data": {
      "text/plain": [
       "<keras.callbacks.History at 0x7ff5780b2130>"
      ]
     },
     "execution_count": 37,
     "metadata": {},
     "output_type": "execute_result"
    }
   ],
   "source": [
    "#The network is identical to the one we trained above. Change it to use\n",
    "# stochastic gradient descent ('sgd').\n",
    "network2 = models.Sequential()\n",
    "network2.add(layers.Dense(512, activation='relu', input_shape=(28 * 28,)))\n",
    "network2.add(layers.Dense(10, activation='softmax'))\n",
    "\n",
    "network2.compile(optimizer='rmsprop',\n",
    "                loss='categorical_crossentropy',\n",
    "                metrics=['accuracy'])\n",
    "network2.fit(train_images, train_labels, epochs=5, batch_size=128)"
   ]
  },
  {
   "cell_type": "code",
   "execution_count": 38,
   "metadata": {},
   "outputs": [
    {
     "name": "stdout",
     "output_type": "stream",
     "text": [
      "313/313 [==============================] - 1s 2ms/step - loss: 0.0650 - accuracy: 0.9797\n"
     ]
    }
   ],
   "source": [
    "#accuracy on the test set with \"rmsprop\" optimizer\n",
    "test_loss, test_acc = network2.evaluate(test_images, test_labels)"
   ]
  },
  {
   "cell_type": "code",
   "execution_count": 39,
   "metadata": {},
   "outputs": [],
   "source": [
    "#Computation with the \"sgd\" optimizer.\n",
    "network2 = models.Sequential()\n",
    "network2.add(layers.Dense(512, activation='relu', input_shape=(28 * 28,)))\n",
    "network2.add(layers.Dense(10, activation='softmax'))"
   ]
  },
  {
   "cell_type": "code",
   "execution_count": 40,
   "metadata": {},
   "outputs": [
    {
     "name": "stdout",
     "output_type": "stream",
     "text": [
      "Epoch 1/5\n",
      "469/469 [==============================] - 3s 5ms/step - loss: 1.1076 - accuracy: 0.7538\n",
      "Epoch 2/5\n",
      "469/469 [==============================] - 2s 5ms/step - loss: 0.5217 - accuracy: 0.8734\n",
      "Epoch 3/5\n",
      "469/469 [==============================] - 2s 5ms/step - loss: 0.4196 - accuracy: 0.8906\n",
      "Epoch 4/5\n",
      "469/469 [==============================] - 2s 5ms/step - loss: 0.3730 - accuracy: 0.8998\n",
      "Epoch 5/5\n",
      "469/469 [==============================] - 2s 5ms/step - loss: 0.3445 - accuracy: 0.9060\n"
     ]
    },
    {
     "data": {
      "text/plain": [
       "<keras.callbacks.History at 0x7ff57ff3f3d0>"
      ]
     },
     "execution_count": 40,
     "metadata": {},
     "output_type": "execute_result"
    }
   ],
   "source": [
    "network2.compile(optimizer='sgd',\n",
    "                loss='categorical_crossentropy',\n",
    "                metrics=['accuracy'])\n",
    "network2.fit(train_images, train_labels, epochs=5, batch_size=128)"
   ]
  },
  {
   "cell_type": "code",
   "execution_count": 41,
   "metadata": {},
   "outputs": [
    {
     "name": "stdout",
     "output_type": "stream",
     "text": [
      "313/313 [==============================] - 1s 2ms/step - loss: 0.3177 - accuracy: 0.9144\n"
     ]
    }
   ],
   "source": [
    "#accuracy on the test set with \"sgd\" optimizer\n",
    "test_loss, test_acc = network2.evaluate(test_images, test_labels)"
   ]
  },
  {
   "cell_type": "markdown",
   "metadata": {
    "id": "WZ0i58hGnIYF"
   },
   "source": [
    "After 5 epochs, we have a better performance of our model when the optimizer is stochastic gradient descent. By analyzing the results, we notice that in the latter case, the accuracy during the testing is higher than the accuracy during the training which is the opposite when we run our model with the rmsprop optimizer. We can conclude that using rmsprop made the model to complex for our data set and then using stochastic gradient descent is a better fit."
   ]
  },
  {
   "cell_type": "markdown",
   "metadata": {
    "id": "NjgBQghHngH4"
   },
   "source": [
    "\n",
    "**7. What dimension tensors are our train_labels and train_images variables?** (1 mark)\n",
    "\n",
    "Our data is stored in Numpy arrays. In general, neural networks use data that is stored in Tensors, which is a term for a container for numbers. Unlike a vector (which is a 1 dimensional tensor) or matrix (2D tensor), a tensor can have an arbitrary number of dimensions. In working with Keras in this course, our tensors are Numpy arrays with a varying number of dimensions.\n"
   ]
  },
  {
   "cell_type": "code",
   "execution_count": 42,
   "metadata": {},
   "outputs": [
    {
     "data": {
      "text/plain": [
       "2"
      ]
     },
     "execution_count": 42,
     "metadata": {},
     "output_type": "execute_result"
    }
   ],
   "source": [
    "train_images.ndim"
   ]
  },
  {
   "cell_type": "code",
   "execution_count": 43,
   "metadata": {},
   "outputs": [
    {
     "data": {
      "text/plain": [
       "2"
      ]
     },
     "execution_count": 43,
     "metadata": {},
     "output_type": "execute_result"
    }
   ],
   "source": [
    "train_labels.ndim"
   ]
  },
  {
   "cell_type": "markdown",
   "metadata": {},
   "source": [
    "The dimension tensors of our train_labels is 2D and for the train_images is 2D. "
   ]
  },
  {
   "cell_type": "markdown",
   "metadata": {
    "id": "9kV-dzNZnROz"
   },
   "source": [
    "**8. Create a new neural network with between 2 and 4 hidden layers, and fewer than 256 nodes per layer. Report the training and test accuracy after 3 and 5 epochs of training respectively. Also report the number of layers and number of nodes per layer that you used to acheive these results.** (4 marks)\n",
    "\n",
    "If you want, you are welcome to experiment with other aspects of the network such as optimizers (e.g. 'adam') or different activation functions (e.g. sigmoid)."
   ]
  },
  {
   "cell_type": "code",
   "execution_count": 43,
   "metadata": {},
   "outputs": [
    {
     "data": {
      "text/plain": [
       "784"
      ]
     },
     "execution_count": 43,
     "metadata": {},
     "output_type": "execute_result"
    }
   ],
   "source": [
    "train_images.shape[1]"
   ]
  },
  {
   "cell_type": "code",
   "execution_count": 55,
   "metadata": {},
   "outputs": [
    {
     "name": "stdout",
     "output_type": "stream",
     "text": [
      "Epoch 1/3\n",
      "469/469 [==============================] - 5s 8ms/step - loss: 0.8110 - accuracy: 0.7341\n",
      "Epoch 2/3\n",
      "469/469 [==============================] - 4s 8ms/step - loss: 0.2380 - accuracy: 0.9314\n",
      "Epoch 3/3\n",
      "469/469 [==============================] - 4s 8ms/step - loss: 0.1591 - accuracy: 0.9529\n"
     ]
    },
    {
     "data": {
      "text/plain": [
       "<keras.callbacks.History at 0x7ff57f754970>"
      ]
     },
     "execution_count": 55,
     "metadata": {},
     "output_type": "execute_result"
    }
   ],
   "source": [
    "#Case of 3 epochs and 4 hidden layers\n",
    "network3 = models.Sequential()\n",
    "\n",
    "network3.add(layers.Dense(224, activation='sigmoid',input_shape=(28 * 28,)))\n",
    "network3.add(layers.Dense(224, activation='sigmoid'))\n",
    "network3.add(layers.Dense(224, activation='sigmoid'))\n",
    "network3.add(layers.Dense(224, activation='sigmoid'))\n",
    "network3.add(layers.Dense(10, activation='softmax'))\n",
    "\n",
    "network3.compile(optimizer='adam',\n",
    "                loss='categorical_crossentropy',\n",
    "                metrics=['accuracy'])\n",
    "network3.fit(train_images, train_labels, epochs=3, batch_size=128)"
   ]
  },
  {
   "cell_type": "code",
   "execution_count": 56,
   "metadata": {},
   "outputs": [
    {
     "name": "stdout",
     "output_type": "stream",
     "text": [
      "313/313 [==============================] - 1s 3ms/step - loss: 0.1468 - accuracy: 0.9566\n"
     ]
    }
   ],
   "source": [
    "#accuracy on the test set with \"adam\" optimizer and after 3 epochs\n",
    "test_loss_3, test_acc_3 = network3.evaluate(test_images, test_labels)"
   ]
  },
  {
   "cell_type": "code",
   "execution_count": 57,
   "metadata": {},
   "outputs": [
    {
     "name": "stdout",
     "output_type": "stream",
     "text": [
      "Model: \"sequential_6\"\n",
      "_________________________________________________________________\n",
      " Layer (type)                Output Shape              Param #   \n",
      "=================================================================\n",
      " dense_18 (Dense)            (None, 224)               175840    \n",
      "                                                                 \n",
      " dense_19 (Dense)            (None, 224)               50400     \n",
      "                                                                 \n",
      " dense_20 (Dense)            (None, 224)               50400     \n",
      "                                                                 \n",
      " dense_21 (Dense)            (None, 224)               50400     \n",
      "                                                                 \n",
      " dense_22 (Dense)            (None, 10)                2250      \n",
      "                                                                 \n",
      "=================================================================\n",
      "Total params: 329,290\n",
      "Trainable params: 329,290\n",
      "Non-trainable params: 0\n",
      "_________________________________________________________________\n",
      "None\n"
     ]
    }
   ],
   "source": [
    "print(network3.summary())"
   ]
  },
  {
   "cell_type": "markdown",
   "metadata": {
    "id": "9UTXvhjdnTVn"
   },
   "source": [
    "For the first experimentation, we have considered a neural network with 4 hidden layers, 1 input layer and 1 output layer. The input layer had 784 nodes and the 04 hidden layers had 224 nodes each while the output layer had 10 nodes. We notice that after 3 epochs the accuracy during the training is 0.9529 and during the test it is 0.9566, since we are dealing with a hude number of parameters (329,290) then the difference in accuracy is significant and the model has performed well during the training and better during the testing. This might be due to the choice of optimizer, our machine was not subject to overfitting."
   ]
  },
  {
   "cell_type": "code",
   "execution_count": 58,
   "metadata": {},
   "outputs": [
    {
     "name": "stdout",
     "output_type": "stream",
     "text": [
      "Epoch 1/5\n",
      "469/469 [==============================] - 6s 10ms/step - loss: 0.7994 - accuracy: 0.7448\n",
      "Epoch 2/5\n",
      "469/469 [==============================] - 4s 9ms/step - loss: 0.2219 - accuracy: 0.9344\n",
      "Epoch 3/5\n",
      "469/469 [==============================] - 4s 9ms/step - loss: 0.1544 - accuracy: 0.9540\n",
      "Epoch 4/5\n",
      "469/469 [==============================] - 4s 10ms/step - loss: 0.1188 - accuracy: 0.9653\n",
      "Epoch 5/5\n",
      "469/469 [==============================] - 4s 9ms/step - loss: 0.0989 - accuracy: 0.9708\n"
     ]
    },
    {
     "data": {
      "text/plain": [
       "<keras.callbacks.History at 0x7ff55c6621f0>"
      ]
     },
     "execution_count": 58,
     "metadata": {},
     "output_type": "execute_result"
    }
   ],
   "source": [
    "#Case of 5 epochs and 3 hidden layers\n",
    "network5 = models.Sequential()\n",
    "\n",
    "network5.add(layers.Dense(224, activation='sigmoid',input_shape=(28 * 28,)))\n",
    "network5.add(layers.Dense(224, activation='sigmoid'))\n",
    "network5.add(layers.Dense(224, activation='sigmoid'))\n",
    "network5.add(layers.Dense(224, activation='sigmoid'))\n",
    "network5.add(layers.Dense(10, activation='softmax'))\n",
    "\n",
    "network5.compile(optimizer='adam',\n",
    "                loss='categorical_crossentropy',\n",
    "                metrics=['accuracy'])\n",
    "network5.fit(train_images, train_labels, epochs=5, batch_size=128)"
   ]
  },
  {
   "cell_type": "code",
   "execution_count": 59,
   "metadata": {},
   "outputs": [
    {
     "name": "stdout",
     "output_type": "stream",
     "text": [
      "313/313 [==============================] - 1s 3ms/step - loss: 0.1068 - accuracy: 0.9694\n"
     ]
    }
   ],
   "source": [
    "#accuracy on the test set with \"adam\" optimizer and after 3 epochs\n",
    "test_loss_5, test_acc_5 = network5.evaluate(test_images, test_labels)"
   ]
  },
  {
   "cell_type": "code",
   "execution_count": 60,
   "metadata": {},
   "outputs": [
    {
     "name": "stdout",
     "output_type": "stream",
     "text": [
      "Model: \"sequential_7\"\n",
      "_________________________________________________________________\n",
      " Layer (type)                Output Shape              Param #   \n",
      "=================================================================\n",
      " dense_23 (Dense)            (None, 224)               175840    \n",
      "                                                                 \n",
      " dense_24 (Dense)            (None, 224)               50400     \n",
      "                                                                 \n",
      " dense_25 (Dense)            (None, 224)               50400     \n",
      "                                                                 \n",
      " dense_26 (Dense)            (None, 224)               50400     \n",
      "                                                                 \n",
      " dense_27 (Dense)            (None, 10)                2250      \n",
      "                                                                 \n",
      "=================================================================\n",
      "Total params: 329,290\n",
      "Trainable params: 329,290\n",
      "Non-trainable params: 0\n",
      "_________________________________________________________________\n",
      "None\n"
     ]
    }
   ],
   "source": [
    "print(network5.summary())"
   ]
  },
  {
   "cell_type": "markdown",
   "metadata": {},
   "source": [
    "By increasing the number of epochs, we notice that the machine is overfitting since the accuracy during the test (0.9694) is lower than the occuracy during the training (0.9708), so increasing the number of epochs with is equivalent to increase the number of iterations and then training the model more can cause and overfitting. A way to solve this problem is to use a regularizer such as dropout where some number of layer ouputs are dropped out during the training with a certain probability (usually 0.4) or the early stopping regularizer."
   ]
  },
  {
   "cell_type": "markdown",
   "metadata": {
    "id": "oqi-mSHEnWxN"
   },
   "source": [
    "**9. Imagine you have designed a machine learning system for a bank. The system uses an aritifical neural network to decide whether to approve mortages based on client income, banking and credit history, and some demographic data such as gender, ethnic background and age. The network has many layers and over 2 million parameters (weights). A client is asking you why their desired mortgage was not approved by the system and they are accusing you of discrimination based on gender. What level of detail are you able to provide them in your response by simply looking at the values of your weights? Can you easily check whether your model is making decisions based on their gender? Why or why not?** (3 marks)\n"
   ]
  },
  {
   "cell_type": "markdown",
   "metadata": {
    "id": "CaNN51KZnOWt"
   },
   "source": [
    "Eventhough Artificial Neural Network is one of the best machine learning model for prediction, in terms of the accuracy it provides compare to others and its robustness, it is still difficult to understand what happens along the training/prediction process. In fact, ANN operate as a black box and is still heavily limited by it. But for what we know, the value of initial weight have a huge impact on the future prediction independently of the optimizer and the activation function chose.\n",
    "\n",
    "Moreover, in neural network, the gradient of the output can be used to identify specific weights that contribute the most to the prediction and unfortunately may be a certain level of gender (male or female) contribute the most during the process or another input variable is biased; that can also have and impact on the final prediction. It is quite impossible to know. In the other hand, if the weights corresponding to the different level of gender a relatively low, we can tell to our customer with a certain level of confidence that our prediction is gender discrimination free and he/she was not selected may be due to another parameter , may be his/her income is low or he/she is too old. "
   ]
  },
  {
   "cell_type": "markdown",
   "metadata": {
    "executionInfo": {
     "elapsed": 32,
     "status": "ok",
     "timestamp": 1677786368917,
     "user": {
      "displayName": "Berthine Nyunga Mpinda",
      "userId": "13943666772456997748"
     },
     "user_tz": -60
    },
    "id": "jdGz7PbehI_z"
   },
   "source": [
    "The fact that the ANNs act as a black box provide little to zero explanation on why some features are favored over others by the model during the training.In other terms, we do not know how the correlations in the training data are represented in the choice of features for the prediction.\n",
    "\n",
    "Using activation functions add non-linearities into the features at each layer, so it will be difficult to check which features are really used for the prediction. Thus, we can not easily check whether our model is making decisions based on their gender. \n",
    "\n",
    "Finally, we can still try to permutate the observations of features in between each client to evaluate if one feature is more important in the prediction than the others but if the column gender was unbalanced (significant difference in proportion of male and female), the model will not work well in terms of prediction. To solve it we can choose to assign the gender that is less represented in the data set to the data of that client and check how it affects the prediction, if it changes and estimate than the client deserves a mortgage so  there is a high chance that the model makes decisions based on gender. "
   ]
  },
  {
   "cell_type": "code",
   "execution_count": null,
   "metadata": {},
   "outputs": [],
   "source": []
  }
 ],
 "metadata": {
  "colab": {
   "provenance": []
  },
  "kernelspec": {
   "display_name": "Python 3",
   "language": "python",
   "name": "python3"
  },
  "language_info": {
   "codemirror_mode": {
    "name": "ipython",
    "version": 3
   },
   "file_extension": ".py",
   "mimetype": "text/x-python",
   "name": "python",
   "nbconvert_exporter": "python",
   "pygments_lexer": "ipython3",
   "version": "3.9.2"
  }
 },
 "nbformat": 4,
 "nbformat_minor": 1
}
